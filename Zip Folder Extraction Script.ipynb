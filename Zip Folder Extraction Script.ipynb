{
 "cells": [
  {
   "cell_type": "code",
   "execution_count": 3,
   "id": "e95cddf2",
   "metadata": {},
   "outputs": [
    {
     "data": {
      "text/plain": [
       "['ACTIVE_CAPTAIN',\n",
       " 'ALPHA_API',\n",
       " 'AVC_CORE_DATA_AIRCRAFT_MGMT_DOMAIN',\n",
       " 'AVC_CORE_DATA_AVIONICS_SOFTWARE_DOMAIN',\n",
       " 'AVC_CORE_DATA_CUSTOMER_DOMAIN',\n",
       " 'AVC_CORE_DATA_ORGS_ROLES_DOMAIN',\n",
       " 'AVIATIONCLOUD',\n",
       " 'customer_data',\n",
       " 'DI_BASEBALL_IMPACT',\n",
       " 'DI_BLUE_LINK',\n",
       " 'DI_BOOT_AUTOSPORT',\n",
       " 'DI_COMMUNITY_PLACES',\n",
       " 'DI_CONNECT',\n",
       " 'DI_CONNECT_IQ',\n",
       " 'DI_DC_CLOUD_MEDIA_STORAGE',\n",
       " 'DI_DELTA_SMART',\n",
       " 'DI_FACEIT_CLOUD',\n",
       " 'DI_LIVETRACK_PND_GROUPRIDE',\n",
       " 'DI_MEDIA_GDPR_SERVICE',\n",
       " 'DI_PERSISTENT_KEY_VALUE_MAP',\n",
       " 'DI_TACX',\n",
       " 'DI_XERO',\n",
       " 'e3f10416-2f74-47e7-90fa-3e1a6ee6ff3c_1.zip',\n",
       " 'ENG_A51_BLAZE',\n",
       " 'ENG_A51_CLIPBOARD',\n",
       " 'FLY_GARMIN',\n",
       " 'GARMIN_SPORTS_SERVER_API',\n",
       " 'INREACH',\n",
       " 'IT_CONSENT_HISTORY',\n",
       " 'IT_DEVICE_AND_CONTENT',\n",
       " 'IT_ECOM_CUSTOMER_GROUPS',\n",
       " 'IT_FORMS',\n",
       " 'IT_GLOBAL_EVENT',\n",
       " 'IT_ORDERS',\n",
       " 'MAR_CHART_SUBS',\n",
       " 'MAR_CLOUD',\n",
       " 'MAR_DRIFTWOOD',\n",
       " 'MAR_MANUFACTURER',\n",
       " 'MAR_ON_DECK',\n",
       " 'MAR_PROFILE',\n",
       " 'NAVIONICS']"
      ]
     },
     "execution_count": 3,
     "metadata": {},
     "output_type": "execute_result"
    }
   ],
   "source": [
    "import zipfile\n",
    "import os\n",
    "\n",
    "# Path to the uploaded zip file\n",
    "zip_file = '2024 Complete/e3f10416-2f74-47e7-90fa-3e1a6ee6ff3c_1.zip'\n",
    "output_dir = '2024 Complete/'\n",
    "\n",
    "# Unzip the file\n",
    "with zipfile.ZipFile(zip_file, 'r') as zip_ref:\n",
    "    zip_ref.extractall(output_dir)\n",
    "\n",
    "# Check if the files were extracted\n",
    "os.listdir(output_dir)"
   ]
  },
  {
   "cell_type": "code",
   "execution_count": null,
   "id": "1df5fb71",
   "metadata": {},
   "outputs": [],
   "source": []
  }
 ],
 "metadata": {
  "kernelspec": {
   "display_name": "Python 3 (ipykernel)",
   "language": "python",
   "name": "python3"
  },
  "language_info": {
   "codemirror_mode": {
    "name": "ipython",
    "version": 3
   },
   "file_extension": ".py",
   "mimetype": "text/x-python",
   "name": "python",
   "nbconvert_exporter": "python",
   "pygments_lexer": "ipython3",
   "version": "3.11.7"
  }
 },
 "nbformat": 4,
 "nbformat_minor": 5
}
