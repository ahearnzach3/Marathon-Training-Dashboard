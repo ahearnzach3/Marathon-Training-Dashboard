{
 "cells": [
  {
   "cell_type": "markdown",
   "id": "471b1332",
   "metadata": {},
   "source": [
    "# GPX Data File Conversion for Run Route Data Mapping in PBI"
   ]
  },
  {
   "cell_type": "code",
   "execution_count": 13,
   "id": "4515ded4",
   "metadata": {},
   "outputs": [
    {
     "name": "stdout",
     "output_type": "stream",
     "text": [
      "All runs combined into 'combined_runs.csv'\n"
     ]
    }
   ],
   "source": [
    "# Import Packages\n",
    "import gpxpy\n",
    "import os\n",
    "import pandas as pd\n",
    "\n",
    "def gpx_to_csv_batch(gpx_folder):\n",
    "    # List all files in the folder\n",
    "    files = [f for f in os.listdir(gpx_folder) if f.endswith('.gpx')]\n",
    "\n",
    "    all_data = []  # To store all run data in one list\n",
    "\n",
    "    for gpx_file in files:\n",
    "        file_path = os.path.join(gpx_folder, gpx_file)\n",
    "        \n",
    "        with open(file_path, 'r') as file:\n",
    "            gpx = gpxpy.parse(file)\n",
    "        \n",
    "        # Extract latitude, longitude, and date from the GPX file\n",
    "        data = []\n",
    "        for track in gpx.tracks:\n",
    "            for segment in track.segments:\n",
    "                for point in segment.points:\n",
    "                    # Extract date as 'YYYY-MM-DD'\n",
    "                    run_date = point.time.date()  # Extract just the date part\n",
    "                    data.append([run_date, point.time, point.latitude, point.longitude])\n",
    "        \n",
    "        # Create a DataFrame for each run and add it to the list\n",
    "        df = pd.DataFrame(data, columns=['Date', 'Time', 'Latitude', 'Longitude'])\n",
    "        all_data.append(df)\n",
    "        \n",
    "        # Optionally save each run's data to a separate CSV file\n",
    "        # csv_file = file_path.replace('.gpx', '.csv')\n",
    "        # df.to_csv(csv_file, index=False)\n",
    "        # print(f\"Converted {gpx_file} to {csv_file}\")\n",
    "\n",
    "    # Combine all data into a single DataFrame\n",
    "    combined_df = pd.concat(all_data, ignore_index=True)\n",
    "    combined_df.to_csv('PBI Data/Final Dataframes/combined_runs_final.csv', index=False)\n",
    "    print(\"All runs combined into 'combined_runs.csv'\")\n",
    "\n",
    "    return combined_df\n",
    "\n",
    "# Example usage\n",
    "gpx_folder = r'Running_Route_Data'  # Relative path to the sub-folder containing GPX files\n",
    "combined_df = gpx_to_csv_batch(gpx_folder)\n"
   ]
  },
  {
   "cell_type": "code",
   "execution_count": 10,
   "id": "5c16b666",
   "metadata": {},
   "outputs": [
    {
     "data": {
      "text/html": [
       "<div>\n",
       "<style scoped>\n",
       "    .dataframe tbody tr th:only-of-type {\n",
       "        vertical-align: middle;\n",
       "    }\n",
       "\n",
       "    .dataframe tbody tr th {\n",
       "        vertical-align: top;\n",
       "    }\n",
       "\n",
       "    .dataframe thead th {\n",
       "        text-align: right;\n",
       "    }\n",
       "</style>\n",
       "<table border=\"1\" class=\"dataframe\">\n",
       "  <thead>\n",
       "    <tr style=\"text-align: right;\">\n",
       "      <th></th>\n",
       "      <th>Date</th>\n",
       "      <th>Time</th>\n",
       "      <th>Latitude</th>\n",
       "      <th>Longitude</th>\n",
       "    </tr>\n",
       "  </thead>\n",
       "  <tbody>\n",
       "    <tr>\n",
       "      <th>177371</th>\n",
       "      <td>2024-12-14</td>\n",
       "      <td>2024-12-14 16:41:03+00:00</td>\n",
       "      <td>32.592574</td>\n",
       "      <td>-80.122161</td>\n",
       "    </tr>\n",
       "    <tr>\n",
       "      <th>177372</th>\n",
       "      <td>2024-12-14</td>\n",
       "      <td>2024-12-14 16:41:04+00:00</td>\n",
       "      <td>32.592569</td>\n",
       "      <td>-80.122172</td>\n",
       "    </tr>\n",
       "    <tr>\n",
       "      <th>177373</th>\n",
       "      <td>2024-12-14</td>\n",
       "      <td>2024-12-14 16:41:05+00:00</td>\n",
       "      <td>32.592564</td>\n",
       "      <td>-80.122181</td>\n",
       "    </tr>\n",
       "    <tr>\n",
       "      <th>177374</th>\n",
       "      <td>2024-12-14</td>\n",
       "      <td>2024-12-14 16:41:06+00:00</td>\n",
       "      <td>32.592565</td>\n",
       "      <td>-80.122184</td>\n",
       "    </tr>\n",
       "    <tr>\n",
       "      <th>177375</th>\n",
       "      <td>2024-12-14</td>\n",
       "      <td>2024-12-14 16:41:07+00:00</td>\n",
       "      <td>32.592566</td>\n",
       "      <td>-80.122186</td>\n",
       "    </tr>\n",
       "  </tbody>\n",
       "</table>\n",
       "</div>"
      ],
      "text/plain": [
       "              Date                      Time   Latitude  Longitude\n",
       "177371  2024-12-14 2024-12-14 16:41:03+00:00  32.592574 -80.122161\n",
       "177372  2024-12-14 2024-12-14 16:41:04+00:00  32.592569 -80.122172\n",
       "177373  2024-12-14 2024-12-14 16:41:05+00:00  32.592564 -80.122181\n",
       "177374  2024-12-14 2024-12-14 16:41:06+00:00  32.592565 -80.122184\n",
       "177375  2024-12-14 2024-12-14 16:41:07+00:00  32.592566 -80.122186"
      ]
     },
     "execution_count": 10,
     "metadata": {},
     "output_type": "execute_result"
    }
   ],
   "source": [
    "combined_df"
   ]
  }
 ],
 "metadata": {
  "kernelspec": {
   "display_name": "Python [conda env:base] *",
   "language": "python",
   "name": "conda-base-py"
  },
  "language_info": {
   "codemirror_mode": {
    "name": "ipython",
    "version": 3
   },
   "file_extension": ".py",
   "mimetype": "text/x-python",
   "name": "python",
   "nbconvert_exporter": "python",
   "pygments_lexer": "ipython3",
   "version": "3.10.9"
  }
 },
 "nbformat": 4,
 "nbformat_minor": 5
}
